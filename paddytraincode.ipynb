{
 "cells": [
  {
   "cell_type": "code",
   "execution_count": 34,
   "metadata": {},
   "outputs": [],
   "source": [
    "from keras.preprocessing.image import ImageDataGenerator\n",
    "from keras.models import Sequential\n",
    "from keras.layers import Conv2D,MaxPooling2D\n",
    "from keras.layers import Activation,Dropout,Flatten,Dense\n",
    "from keras import backend as K\n",
    "import numpy as np\n",
    "from keras.preprocessing import image\n",
    "from keras.models import model_from_json\n",
    "from matplotlib import pyplot\n",
    "\n"
   ]
  },
  {
   "cell_type": "code",
   "execution_count": 35,
   "metadata": {},
   "outputs": [],
   "source": [
    "img_width,img_height =800,600\n",
    "train_data_dir='data/train'\n",
    "validation_data_dir='data/validation'\n",
    "nb_train_samples=40\n",
    "nb_validation_samples=20\n",
    "epochs=40\n",
    "batch_size=8"
   ]
  },
  {
   "cell_type": "code",
   "execution_count": 36,
   "metadata": {},
   "outputs": [],
   "source": [
    "if K.image_data_format() == 'channels_first' :\n",
    "    input_shape = (3,img_width,img_height)\n",
    "else:\n",
    "    input_shape = (img_width,img_height,3)"
   ]
  },
  {
   "cell_type": "code",
   "execution_count": 37,
   "metadata": {},
   "outputs": [],
   "source": [
    "train_datagen = ImageDataGenerator(\n",
    "    rescale=1. /255,\n",
    "    shear_range=0.2,\n",
    "    zoom_range=0.2,\n",
    "    horizontal_flip=True\n",
    ")\n",
    "\n",
    "test_datagen = ImageDataGenerator(rescale=1. / 255)"
   ]
  },
  {
   "cell_type": "code",
   "execution_count": 38,
   "metadata": {},
   "outputs": [
    {
     "name": "stdout",
     "output_type": "stream",
     "text": [
      "Found 1620 images belonging to 2 classes.\n",
      "Found 173 images belonging to 2 classes.\n"
     ]
    }
   ],
   "source": [
    "train_generator = train_datagen.flow_from_directory(\n",
    "     train_data_dir,\n",
    "     target_size=(img_width,img_height),\n",
    "     batch_size=batch_size,\n",
    "     class_mode='binary')\n",
    "\n",
    "validation_generator = test_datagen.flow_from_directory(\n",
    "     validation_data_dir,\n",
    "     target_size=(img_width,img_height),\n",
    "     batch_size=batch_size,\n",
    "     class_mode='binary')"
   ]
  },
  {
   "cell_type": "code",
   "execution_count": 39,
   "metadata": {},
   "outputs": [],
   "source": [
    "model = Sequential()\n",
    "model.add(Conv2D(32,(3,3),input_shape=input_shape))\n",
    "model.add(Activation('relu'))\n",
    "model.add(MaxPooling2D(pool_size=(2,2)))\n",
    "\n",
    "\n",
    "\n",
    "model.add(Conv2D(32,(3,3)))\n",
    "model.add(Activation('relu'))\n",
    "model.add(MaxPooling2D(pool_size=(2,2)))\n",
    "\n",
    "\n",
    "model.add(Conv2D(64,(3,3)))\n",
    "model.add(Activation('relu'))\n",
    "model.add(MaxPooling2D(pool_size=(2,2)))\n",
    "\n",
    "\n",
    "model.add(Flatten())\n",
    "model.add(Dense(64))\n",
    "model.add(Activation('relu'))\n",
    "\n",
    "model.add(Dropout(0.5))\n",
    "model.add(Dense(1))\n",
    "model.add(Activation('sigmoid'))"
   ]
  },
  {
   "cell_type": "code",
   "execution_count": 40,
   "metadata": {},
   "outputs": [
    {
     "name": "stdout",
     "output_type": "stream",
     "text": [
      "Model: \"sequential_4\"\n",
      "_________________________________________________________________\n",
      "Layer (type)                 Output Shape              Param #   \n",
      "=================================================================\n",
      "conv2d_10 (Conv2D)           (None, 798, 598, 32)      896       \n",
      "_________________________________________________________________\n",
      "activation_16 (Activation)   (None, 798, 598, 32)      0         \n",
      "_________________________________________________________________\n",
      "max_pooling2d_10 (MaxPooling (None, 399, 299, 32)      0         \n",
      "_________________________________________________________________\n",
      "conv2d_11 (Conv2D)           (None, 397, 297, 32)      9248      \n",
      "_________________________________________________________________\n",
      "activation_17 (Activation)   (None, 397, 297, 32)      0         \n",
      "_________________________________________________________________\n",
      "max_pooling2d_11 (MaxPooling (None, 198, 148, 32)      0         \n",
      "_________________________________________________________________\n",
      "conv2d_12 (Conv2D)           (None, 196, 146, 64)      18496     \n",
      "_________________________________________________________________\n",
      "activation_18 (Activation)   (None, 196, 146, 64)      0         \n",
      "_________________________________________________________________\n",
      "max_pooling2d_12 (MaxPooling (None, 98, 73, 64)        0         \n",
      "_________________________________________________________________\n",
      "flatten_4 (Flatten)          (None, 457856)            0         \n",
      "_________________________________________________________________\n",
      "dense_7 (Dense)              (None, 64)                29302848  \n",
      "_________________________________________________________________\n",
      "activation_19 (Activation)   (None, 64)                0         \n",
      "_________________________________________________________________\n",
      "dropout_4 (Dropout)          (None, 64)                0         \n",
      "_________________________________________________________________\n",
      "dense_8 (Dense)              (None, 1)                 65        \n",
      "_________________________________________________________________\n",
      "activation_20 (Activation)   (None, 1)                 0         \n",
      "=================================================================\n",
      "Total params: 29,331,553\n",
      "Trainable params: 29,331,553\n",
      "Non-trainable params: 0\n",
      "_________________________________________________________________\n",
      "Epoch 1/40\n",
      "5/5 [==============================] - 13s 3s/step - loss: 7.2768 - accuracy: 0.5750 - val_loss: 1.2655 - val_accuracy: 0.5000\n",
      "Epoch 2/40\n",
      "5/5 [==============================] - 15s 3s/step - loss: 0.6980 - accuracy: 0.5000 - val_loss: 0.8787 - val_accuracy: 0.3125\n",
      "Epoch 3/40\n",
      "5/5 [==============================] - 15s 3s/step - loss: 0.7857 - accuracy: 0.4500 - val_loss: 0.6874 - val_accuracy: 0.8125\n",
      "Epoch 4/40\n",
      "5/5 [==============================] - 15s 3s/step - loss: 0.9256 - accuracy: 0.5250 - val_loss: 0.7479 - val_accuracy: 0.4375\n",
      "Epoch 5/40\n",
      "5/5 [==============================] - 15s 3s/step - loss: 0.7812 - accuracy: 0.5250 - val_loss: 0.6902 - val_accuracy: 0.6875\n",
      "Epoch 6/40\n",
      "5/5 [==============================] - 13s 3s/step - loss: 0.6908 - accuracy: 0.6667 - val_loss: 0.6838 - val_accuracy: 0.8750\n",
      "Epoch 7/40\n",
      "5/5 [==============================] - 15s 3s/step - loss: 0.6700 - accuracy: 0.6750 - val_loss: 0.6771 - val_accuracy: 0.6250\n",
      "Epoch 8/40\n",
      "5/5 [==============================] - 15s 3s/step - loss: 1.1022 - accuracy: 0.3750 - val_loss: 0.6920 - val_accuracy: 0.6250\n",
      "Epoch 9/40\n",
      "5/5 [==============================] - 15s 3s/step - loss: 0.6775 - accuracy: 0.5250 - val_loss: 0.6956 - val_accuracy: 0.5000\n",
      "Epoch 10/40\n",
      "5/5 [==============================] - 15s 3s/step - loss: 0.6912 - accuracy: 0.5500 - val_loss: 0.6857 - val_accuracy: 0.7500\n",
      "Epoch 11/40\n",
      "5/5 [==============================] - 15s 3s/step - loss: 0.6881 - accuracy: 0.5750 - val_loss: 0.6976 - val_accuracy: 0.6923\n",
      "Epoch 12/40\n",
      "5/5 [==============================] - 15s 3s/step - loss: 0.7414 - accuracy: 0.5750 - val_loss: 0.6851 - val_accuracy: 0.6250\n",
      "Epoch 13/40\n",
      "5/5 [==============================] - 15s 3s/step - loss: 0.6791 - accuracy: 0.7000 - val_loss: 0.6691 - val_accuracy: 0.7500\n",
      "Epoch 14/40\n",
      "5/5 [==============================] - 14s 3s/step - loss: 1.4142 - accuracy: 0.8000 - val_loss: 0.6745 - val_accuracy: 0.8125\n",
      "Epoch 15/40\n",
      "5/5 [==============================] - 15s 3s/step - loss: 0.6617 - accuracy: 0.8000 - val_loss: 0.6562 - val_accuracy: 0.6250\n",
      "Epoch 16/40\n",
      "5/5 [==============================] - 15s 3s/step - loss: 0.5117 - accuracy: 0.8000 - val_loss: 17.6904 - val_accuracy: 0.3750\n",
      "Epoch 17/40\n",
      "5/5 [==============================] - 15s 3s/step - loss: 1.7161 - accuracy: 0.7000 - val_loss: 0.6653 - val_accuracy: 0.9375\n",
      "Epoch 18/40\n",
      "5/5 [==============================] - 14s 3s/step - loss: 0.6258 - accuracy: 0.6250 - val_loss: 0.5811 - val_accuracy: 0.6250\n",
      "Epoch 19/40\n",
      "5/5 [==============================] - 14s 3s/step - loss: 0.6027 - accuracy: 0.4000 - val_loss: 0.6410 - val_accuracy: 0.8125\n",
      "Epoch 20/40\n",
      "5/5 [==============================] - 15s 3s/step - loss: 0.6425 - accuracy: 0.8000 - val_loss: 0.6382 - val_accuracy: 0.7500\n",
      "Epoch 21/40\n",
      "5/5 [==============================] - 15s 3s/step - loss: 0.6592 - accuracy: 0.6500 - val_loss: 0.6658 - val_accuracy: 0.6875\n",
      "Epoch 22/40\n",
      "5/5 [==============================] - 14s 3s/step - loss: 0.6886 - accuracy: 0.7250 - val_loss: 0.6753 - val_accuracy: 0.6923\n",
      "Epoch 23/40\n",
      "5/5 [==============================] - 15s 3s/step - loss: 0.6973 - accuracy: 0.5500 - val_loss: 0.6549 - val_accuracy: 0.6250\n",
      "Epoch 24/40\n",
      "5/5 [==============================] - 15s 3s/step - loss: 0.5254 - accuracy: 0.6750 - val_loss: 1.2095 - val_accuracy: 0.2500\n",
      "Epoch 25/40\n",
      "5/5 [==============================] - 15s 3s/step - loss: 0.6784 - accuracy: 0.6500 - val_loss: 3.1980 - val_accuracy: 0.3750\n",
      "Epoch 26/40\n",
      "5/5 [==============================] - 15s 3s/step - loss: 1.6375 - accuracy: 0.5000 - val_loss: 0.9450 - val_accuracy: 0.3125\n",
      "Epoch 27/40\n",
      "5/5 [==============================] - 15s 3s/step - loss: 0.6204 - accuracy: 0.6000 - val_loss: 0.4717 - val_accuracy: 0.8750\n",
      "Epoch 28/40\n",
      "5/5 [==============================] - 15s 3s/step - loss: 0.6105 - accuracy: 0.7000 - val_loss: 0.6075 - val_accuracy: 0.8750\n",
      "Epoch 29/40\n",
      "5/5 [==============================] - 15s 3s/step - loss: 0.7227 - accuracy: 0.6500 - val_loss: 0.6832 - val_accuracy: 0.7500\n",
      "Epoch 30/40\n",
      "5/5 [==============================] - 15s 3s/step - loss: 0.6513 - accuracy: 0.7000 - val_loss: 0.6028 - val_accuracy: 0.8125\n",
      "Epoch 31/40\n",
      "5/5 [==============================] - 14s 3s/step - loss: 0.6920 - accuracy: 0.6500 - val_loss: 0.5956 - val_accuracy: 0.7500\n",
      "Epoch 32/40\n",
      "5/5 [==============================] - 15s 3s/step - loss: 0.6137 - accuracy: 0.6250 - val_loss: 0.6795 - val_accuracy: 0.9375\n",
      "Epoch 33/40\n",
      "5/5 [==============================] - 14s 3s/step - loss: 0.6031 - accuracy: 0.7500 - val_loss: 0.7140 - val_accuracy: 0.7692\n",
      "Epoch 34/40\n",
      "5/5 [==============================] - 15s 3s/step - loss: 0.5244 - accuracy: 0.8000 - val_loss: 0.5166 - val_accuracy: 0.7500\n",
      "Epoch 35/40\n",
      "5/5 [==============================] - 14s 3s/step - loss: 0.6157 - accuracy: 0.6500 - val_loss: 0.5600 - val_accuracy: 0.7500\n",
      "Epoch 36/40\n",
      "5/5 [==============================] - 15s 3s/step - loss: 0.5008 - accuracy: 0.8500 - val_loss: 0.4701 - val_accuracy: 0.8125\n",
      "Epoch 37/40\n",
      "5/5 [==============================] - 15s 3s/step - loss: 0.8922 - accuracy: 0.5250 - val_loss: 0.6313 - val_accuracy: 0.8750\n",
      "Epoch 38/40\n",
      "5/5 [==============================] - 15s 3s/step - loss: 0.5631 - accuracy: 0.7750 - val_loss: 0.9680 - val_accuracy: 0.2500\n",
      "Epoch 39/40\n",
      "5/5 [==============================] - 14s 3s/step - loss: 0.6045 - accuracy: 0.7500 - val_loss: 0.4747 - val_accuracy: 0.8125\n",
      "Epoch 40/40\n",
      "5/5 [==============================] - 13s 3s/step - loss: 0.4544 - accuracy: 0.8000 - val_loss: 0.1658 - val_accuracy: 0.8125\n"
     ]
    }
   ],
   "source": [
    "model.compile(loss='binary_crossentropy',\n",
    "              optimizer='rmsprop',\n",
    "              metrics=['accuracy'])\n",
    "model.summary()\n",
    "\n",
    "history=model.fit_generator(\n",
    "    train_generator,\n",
    "    steps_per_epoch=nb_train_samples // batch_size,\n",
    "    epochs=epochs,\n",
    "    validation_data=validation_generator,\n",
    "    validation_steps=nb_validation_samples // batch_size,\n",
    "\n",
    "\n",
    ")"
   ]
  },
  {
   "cell_type": "code",
   "execution_count": 45,
   "metadata": {},
   "outputs": [
    {
     "name": "stdout",
     "output_type": "stream",
     "text": [
      "Saved model to disk\n"
     ]
    }
   ],
   "source": [
    "model_json = model.to_json()\n",
    "with open(\"testeasy1.json\", \"w\") as json_file:\n",
    "    json_file.write(model_json)\n",
    "# serialize weights to HDF5\n",
    "model.save_weights(\"testeasy1.h5\")\n",
    "print(\"Saved model to disk\")"
   ]
  },
  {
   "cell_type": "code",
   "execution_count": 41,
   "metadata": {},
   "outputs": [
    {
     "name": "stdout",
     "output_type": "stream",
     "text": [
      "[[1.]]\n",
      "pure paddy\n"
     ]
    }
   ],
   "source": [
    "img_pred=image.load_img('C:/paddy seed/data/pure1.jpg',target_size=(800,600))\n",
    "img_pred=image.img_to_array(img_pred)\n",
    "img_pred=np.expand_dims(img_pred,axis=0)\n",
    "rslt=model.predict(img_pred)\n",
    "print(rslt)\n",
    "if rslt[0][0] == 1:\n",
    "    prediction = \"pure paddy\"\n",
    "else:\n",
    "    prediction = \"impure paddy\"\n",
    "\n",
    "print(prediction)"
   ]
  },
  {
   "cell_type": "code",
   "execution_count": 42,
   "metadata": {},
   "outputs": [
    {
     "data": {
      "image/png": "[encoded data removed]",
      "text/plain": [
       "<Figure size 432x288 with 1 Axes>"
      ]
     },
     "metadata": {
      "needs_background": "light"
     },
     "output_type": "display_data"
    }
   ],
   "source": [
    "pyplot.plot(history.history['loss'], label='train')\n",
    "pyplot.plot(history.history['val_loss'], label='validation')\n",
    "pyplot.legend()\n",
    "pyplot.show()"
   ]
  },
  {
   "cell_type": "code",
   "execution_count": 43,
   "metadata": {},
   "outputs": [
    {
     "data": {
      "image/png": "[encoded data removed]",
      "text/plain": [
       "<Figure size 432x288 with 1 Axes>"
      ]
     },
     "metadata": {
      "needs_background": "light"
     },
     "output_type": "display_data"
    }
   ],
   "source": [
    "pyplot.plot(history.history['accuracy'], label='train')\n",
    "pyplot.plot(history.history['val_accuracy'], label='validation')\n",
    "pyplot.legend()\n",
    "pyplot.show()"
   ]
  },
  {
   "cell_type": "code",
   "execution_count": 44,
   "metadata": {},
   "outputs": [
    {
     "name": "stdout",
     "output_type": "stream",
     "text": [
      "Saved model to disk\n"
     ]
    }
   ],
   "source": [
    "model_json = model.to_json()\n",
    "with open(\"testeasy1.json\", \"w\") as json_file:\n",
    "    json_file.write(model_json)\n",
    "# serialize weights to HDF5\n",
    "model.save_weights(\"testeasy1.h5\")\n",
    "print(\"Saved model to disk\")"
   ]
  }
 ],
 "metadata": {
  "kernelspec": {
   "display_name": "Python 3",
   "language": "python",
   "name": "python3"
  },
  "language_info": {
   "codemirror_mode": {
    "name": "ipython",
    "version": 3
   },
   "file_extension": ".py",
   "mimetype": "text/x-python",
   "name": "python",
   "nbconvert_exporter": "python",
   "pygments_lexer": "ipython3",
   "version": "3.7.7"
  }
 },
 "nbformat": 4,
 "nbformat_minor": 4
}
