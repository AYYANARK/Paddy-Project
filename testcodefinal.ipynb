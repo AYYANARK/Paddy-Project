{
 "cells": [
  {
   "cell_type": "code",
   "execution_count": 3,
   "metadata": {},
   "outputs": [
    {
     "name": "stderr",
     "output_type": "stream",
     "text": [
      "Using TensorFlow backend.\n"
     ]
    }
   ],
   "source": [
    "from keras.models import model_from_json\n",
    "import numpy as np\n",
    "import tensorflow as tf\n",
    "from sklearn import metrics\n",
    "from sklearn.metrics import confusion_matrix,classification_report\n",
    "from keras.preprocessing.image import ImageDataGenerator, img_to_array, load_img\n",
    "from keras.preprocessing import image\n",
    "\n"
   ]
  },
  {
   "cell_type": "code",
   "execution_count": 4,
   "metadata": {},
   "outputs": [
    {
     "name": "stdout",
     "output_type": "stream",
     "text": [
      "Loaded model from disk\n"
     ]
    }
   ],
   "source": [
    "json_file = open('testeasycheck.json', 'r')\n",
    "loaded_model_json = json_file.read()\n",
    "json_file.close()\n",
    "loaded_model = model_from_json(loaded_model_json)\n",
    "\n",
    "loaded_model.load_weights(\"testeasycheck.h5\")\n",
    "print(\"Loaded model from disk\")"
   ]
  },
  {
   "cell_type": "code",
   "execution_count": 5,
   "metadata": {
    "scrolled": true
   },
   "outputs": [
    {
     "name": "stdout",
     "output_type": "stream",
     "text": [
      "Model: \"sequential_1\"\n",
      "_________________________________________________________________\n",
      "Layer (type)                 Output Shape              Param #   \n",
      "=================================================================\n",
      "conv2d_1 (Conv2D)            (None, 798, 598, 32)      896       \n",
      "_________________________________________________________________\n",
      "activation_1 (Activation)    (None, 798, 598, 32)      0         \n",
      "_________________________________________________________________\n",
      "max_pooling2d_1 (MaxPooling2 (None, 399, 299, 32)      0         \n",
      "_________________________________________________________________\n",
      "conv2d_2 (Conv2D)            (None, 397, 297, 32)      9248      \n",
      "_________________________________________________________________\n",
      "activation_2 (Activation)    (None, 397, 297, 32)      0         \n",
      "_________________________________________________________________\n",
      "max_pooling2d_2 (MaxPooling2 (None, 198, 148, 32)      0         \n",
      "_________________________________________________________________\n",
      "conv2d_3 (Conv2D)            (None, 196, 146, 64)      18496     \n",
      "_________________________________________________________________\n",
      "activation_3 (Activation)    (None, 196, 146, 64)      0         \n",
      "_________________________________________________________________\n",
      "max_pooling2d_3 (MaxPooling2 (None, 98, 73, 64)        0         \n",
      "_________________________________________________________________\n",
      "flatten_1 (Flatten)          (None, 457856)            0         \n",
      "_________________________________________________________________\n",
      "dense_1 (Dense)              (None, 64)                29302848  \n",
      "_________________________________________________________________\n",
      "activation_4 (Activation)    (None, 64)                0         \n",
      "_________________________________________________________________\n",
      "dropout_1 (Dropout)          (None, 64)                0         \n",
      "_________________________________________________________________\n",
      "dense_2 (Dense)              (None, 1)                 65        \n",
      "_________________________________________________________________\n",
      "activation_5 (Activation)    (None, 1)                 0         \n",
      "=================================================================\n",
      "Total params: 29,331,553\n",
      "Trainable params: 29,331,553\n",
      "Non-trainable params: 0\n",
      "_________________________________________________________________\n"
     ]
    }
   ],
   "source": [
    "loaded_model.summary()"
   ]
  },
  {
   "cell_type": "code",
   "execution_count": 9,
   "metadata": {},
   "outputs": [
    {
     "name": "stdout",
     "output_type": "stream",
     "text": [
      "Given image is \"IMPURE PADDY\"\n",
      "Percentage of Impurity level is [[0.9462824]]\n"
     ]
    }
   ],
   "source": [
    "img_pred=image.load_img('data/i62.jpg',target_size=(800,600))\n",
    "img_pred=image.img_to_array(img_pred)\n",
    "img_pred=np.expand_dims(img_pred,axis=0)\n",
    "rslt=loaded_model.predict(img_pred)\n",
    "\n",
    "#NORMALISATION FORMULA:\n",
    "#a+((x-A)(b-a)/(B-A))\n",
    "#where a,b are the normalisation unit limit\n",
    "#A,B are pure/impure paddy seed minimum and maximum numerical value predicted by neural network\n",
    "#x is the value which we going to normalise.\n",
    "\n",
    "\n",
    "if rslt[0][0] == 1:\n",
    "    prediction = 'Given image is \"PURE PADDY\"'\n",
    "    print(prediction)\n",
    "    frslt=1+(((rslt-0.9818)*(100-1))/(1-0.9818))\n",
    "    print('Percentage of Purity level is',frslt)\n",
    "    \n",
    "else:\n",
    "    prediction = 'Given image is \"IMPURE PADDY\"'\n",
    "    print(prediction)\n",
    "    frslt=1+(((rslt-0.000566)*(100-1))/(0.999723-0.000566))\n",
    "    print('Percentage of Impurity level is',frslt)\n"
   ]
  },
  {
   "cell_type": "code",
   "execution_count": 13,
   "metadata": {},
   "outputs": [
    {
     "name": "stdout",
     "output_type": "stream",
     "text": [
      "Found 239 images belonging to 2 classes.\n"
     ]
    }
   ],
   "source": [
    "batch_size=2\n",
    "nb_test_samples=238\n",
    "img_width,img_height=800,600\n",
    "test_data_dir='data/test'\n",
    "test_datagen = ImageDataGenerator(rescale=1. / 255)\n",
    "test_generator = test_datagen.flow_from_directory(\n",
    "     test_data_dir,\n",
    "     target_size=(img_width,img_height),\n",
    "     batch_size=batch_size,\n",
    "     class_mode='binary',shuffle=False)\n"
   ]
  },
  {
   "cell_type": "code",
   "execution_count": 14,
   "metadata": {},
   "outputs": [
    {
     "name": "stdout",
     "output_type": "stream",
     "text": [
      "120/120 [==============================] - 48s 396ms/step\n",
      "Confusion Matrix\n",
      "[[ 57  58]\n",
      " [  0 124]]\n"
     ]
    }
   ],
   "source": [
    "Y_pred = loaded_model.predict_generator(test_generator, steps=np.ceil(nb_test_samples // batch_size+1), verbose=1, workers=0)\n",
    "y_pred=np.where(Y_pred>0.5, 1, 0)\n",
    "print('Confusion Matrix')\n",
    "print(confusion_matrix(test_generator.classes, y_pred))"
   ]
  },
  {
   "cell_type": "code",
   "execution_count": 15,
   "metadata": {},
   "outputs": [
    {
     "name": "stdout",
     "output_type": "stream",
     "text": [
      "Classification Report\n",
      "              precision    recall  f1-score   support\n",
      "\n",
      "        pure       1.00      0.50      0.66       115\n",
      "      impure       0.68      1.00      0.81       124\n",
      "\n",
      "    accuracy                           0.76       239\n",
      "   macro avg       0.84      0.75      0.74       239\n",
      "weighted avg       0.83      0.76      0.74       239\n",
      "\n"
     ]
    }
   ],
   "source": [
    "print('Classification Report')\n",
    "target_names = ['pure', 'impure']\n",
    "print(classification_report(test_generator.classes, y_pred, target_names=target_names))"
   ]
  }
 ],
 "metadata": {
  "kernelspec": {
   "display_name": "Python 3",
   "language": "python",
   "name": "python3"
  },
  "language_info": {
   "codemirror_mode": {
    "name": "ipython",
    "version": 3
   },
   "file_extension": ".py",
   "mimetype": "text/x-python",
   "name": "python",
   "nbconvert_exporter": "python",
   "pygments_lexer": "ipython3",
   "version": "3.7.7"
  }
 },
 "nbformat": 4,
 "nbformat_minor": 4
}
